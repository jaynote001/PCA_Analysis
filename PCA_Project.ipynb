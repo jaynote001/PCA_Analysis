{
 "cells": [
  {
   "cell_type": "markdown",
   "metadata": {},
   "source": [
    "# Machine Learning Packages"
   ]
  },
  {
   "cell_type": "code",
   "execution_count": 1,
   "metadata": {},
   "outputs": [
    {
     "name": "stderr",
     "output_type": "stream",
     "text": [
      "Using TensorFlow backend.\n",
      "/home/jiwant/PCA_Project/.venv/lib/python3.6/site-packages/tensorflow/python/framework/dtypes.py:516: FutureWarning: Passing (type, 1) or '1type' as a synonym of type is deprecated; in a future version of numpy, it will be understood as (type, (1,)) / '(1,)type'.\n",
      "  _np_qint8 = np.dtype([(\"qint8\", np.int8, 1)])\n",
      "/home/jiwant/PCA_Project/.venv/lib/python3.6/site-packages/tensorflow/python/framework/dtypes.py:517: FutureWarning: Passing (type, 1) or '1type' as a synonym of type is deprecated; in a future version of numpy, it will be understood as (type, (1,)) / '(1,)type'.\n",
      "  _np_quint8 = np.dtype([(\"quint8\", np.uint8, 1)])\n",
      "/home/jiwant/PCA_Project/.venv/lib/python3.6/site-packages/tensorflow/python/framework/dtypes.py:518: FutureWarning: Passing (type, 1) or '1type' as a synonym of type is deprecated; in a future version of numpy, it will be understood as (type, (1,)) / '(1,)type'.\n",
      "  _np_qint16 = np.dtype([(\"qint16\", np.int16, 1)])\n",
      "/home/jiwant/PCA_Project/.venv/lib/python3.6/site-packages/tensorflow/python/framework/dtypes.py:519: FutureWarning: Passing (type, 1) or '1type' as a synonym of type is deprecated; in a future version of numpy, it will be understood as (type, (1,)) / '(1,)type'.\n",
      "  _np_quint16 = np.dtype([(\"quint16\", np.uint16, 1)])\n",
      "/home/jiwant/PCA_Project/.venv/lib/python3.6/site-packages/tensorflow/python/framework/dtypes.py:520: FutureWarning: Passing (type, 1) or '1type' as a synonym of type is deprecated; in a future version of numpy, it will be understood as (type, (1,)) / '(1,)type'.\n",
      "  _np_qint32 = np.dtype([(\"qint32\", np.int32, 1)])\n",
      "/home/jiwant/PCA_Project/.venv/lib/python3.6/site-packages/tensorflow/python/framework/dtypes.py:525: FutureWarning: Passing (type, 1) or '1type' as a synonym of type is deprecated; in a future version of numpy, it will be understood as (type, (1,)) / '(1,)type'.\n",
      "  np_resource = np.dtype([(\"resource\", np.ubyte, 1)])\n",
      "/home/jiwant/PCA_Project/.venv/lib/python3.6/site-packages/tensorboard/compat/tensorflow_stub/dtypes.py:541: FutureWarning: Passing (type, 1) or '1type' as a synonym of type is deprecated; in a future version of numpy, it will be understood as (type, (1,)) / '(1,)type'.\n",
      "  _np_qint8 = np.dtype([(\"qint8\", np.int8, 1)])\n",
      "/home/jiwant/PCA_Project/.venv/lib/python3.6/site-packages/tensorboard/compat/tensorflow_stub/dtypes.py:542: FutureWarning: Passing (type, 1) or '1type' as a synonym of type is deprecated; in a future version of numpy, it will be understood as (type, (1,)) / '(1,)type'.\n",
      "  _np_quint8 = np.dtype([(\"quint8\", np.uint8, 1)])\n",
      "/home/jiwant/PCA_Project/.venv/lib/python3.6/site-packages/tensorboard/compat/tensorflow_stub/dtypes.py:543: FutureWarning: Passing (type, 1) or '1type' as a synonym of type is deprecated; in a future version of numpy, it will be understood as (type, (1,)) / '(1,)type'.\n",
      "  _np_qint16 = np.dtype([(\"qint16\", np.int16, 1)])\n",
      "/home/jiwant/PCA_Project/.venv/lib/python3.6/site-packages/tensorboard/compat/tensorflow_stub/dtypes.py:544: FutureWarning: Passing (type, 1) or '1type' as a synonym of type is deprecated; in a future version of numpy, it will be understood as (type, (1,)) / '(1,)type'.\n",
      "  _np_quint16 = np.dtype([(\"quint16\", np.uint16, 1)])\n",
      "/home/jiwant/PCA_Project/.venv/lib/python3.6/site-packages/tensorboard/compat/tensorflow_stub/dtypes.py:545: FutureWarning: Passing (type, 1) or '1type' as a synonym of type is deprecated; in a future version of numpy, it will be understood as (type, (1,)) / '(1,)type'.\n",
      "  _np_qint32 = np.dtype([(\"qint32\", np.int32, 1)])\n",
      "/home/jiwant/PCA_Project/.venv/lib/python3.6/site-packages/tensorboard/compat/tensorflow_stub/dtypes.py:550: FutureWarning: Passing (type, 1) or '1type' as a synonym of type is deprecated; in a future version of numpy, it will be understood as (type, (1,)) / '(1,)type'.\n",
      "  np_resource = np.dtype([(\"resource\", np.ubyte, 1)])\n"
     ]
    }
   ],
   "source": [
    "import numpy as np\n",
    "import pandas as pd\n",
    "\n",
    "from sklearn.preprocessing import StandardScaler\n",
    "from sklearn.decomposition import PCA\n",
    "\n",
    "from keras.models import Sequential\n",
    "from keras.utils import np_utils\n",
    "from keras.layers import Dense, Dropout, GaussianNoise, Conv1D\n",
    "from keras.preprocessing.image import ImageDataGenerator\n",
    "\n",
    "import matplotlib.pyplot as plt\n",
    "import seaborn as sns\n",
    "%matplotlib inline"
   ]
  },
  {
   "cell_type": "markdown",
   "metadata": {},
   "source": [
    "# Extract Training Stet and Text Set with Data Preprocessing"
   ]
  },
  {
   "cell_type": "code",
   "execution_count": 2,
   "metadata": {},
   "outputs": [],
   "source": [
    "test = pd.read_csv('./test.csv')\n",
    "train = pd.read_csv('./train.csv')\n",
    "\n",
    "Y_train = train['label'].values.astype('int32')\n",
    "Y_train = np_utils.to_categorical(Y_train) \n",
    "train.drop(['label'], axis=1, inplace=True)\n",
    "\n",
    "X_train = (train.values).astype('float32')\n",
    "X_test = (test.values).astype('float32')"
   ]
  },
  {
   "cell_type": "markdown",
   "metadata": {},
   "source": [
    "# Reshape and Print First Character"
   ]
  },
  {
   "cell_type": "code",
   "execution_count": 3,
   "metadata": {},
   "outputs": [
    {
     "name": "stdout",
     "output_type": "stream",
     "text": [
      "Y_train value form: [1. 0. 0. 0. 0. 0. 0. 0. 0. 0.]\n",
      "Which is 0 (1 in [0] position of the vector).\n"
     ]
    },
    {
     "data": {
      "image/png": "[encoded data removed]",
      "text/plain": [
       "<Figure size 432x288 with 1 Axes>"
      ]
     },
     "metadata": {
      "needs_background": "light"
     },
     "output_type": "display_data"
    }
   ],
   "source": [
    "print('Y_train value form: {}'.format(Y_train[1]))\n",
    "print('Which is 0 (1 in [0] position of the vector).')\n",
    "plt.imshow(X_train[1].reshape(28,28))\n",
    "plt.show()"
   ]
  },
  {
   "cell_type": "markdown",
   "metadata": {},
   "source": [
    "# Standardize All Data"
   ]
  },
  {
   "cell_type": "code",
   "execution_count": 4,
   "metadata": {},
   "outputs": [],
   "source": [
    "scaler = StandardScaler()\n",
    "scaler.fit(X_train)\n",
    "X_sc_train = scaler.transform(X_train)\n",
    "X_sc_test = scaler.transform(X_test)"
   ]
  },
  {
   "cell_type": "markdown",
   "metadata": {},
   "source": [
    "# Variance vs Number of Dimensions Plot"
   ]
  },
  {
   "cell_type": "code",
   "execution_count": 5,
   "metadata": {},
   "outputs": [
    {
     "data": {
      "text/plain": [
       "Text(0, 0.5, 'Cumulative explained variance')"
      ]
     },
     "execution_count": 5,
     "metadata": {},
     "output_type": "execute_result"
    },
    {
     "data": {
      "image/png": "[encoded data removed]",
      "text/plain": [
       "<Figure size 432x288 with 1 Axes>"
      ]
     },
     "metadata": {
      "needs_background": "light"
     },
     "output_type": "display_data"
    }
   ],
   "source": [
    "pca = PCA(n_components=500)\n",
    "pca.fit(X_train)\n",
    "\n",
    "plt.plot(np.cumsum(pca.explained_variance_ratio_))\n",
    "plt.xlabel('Number of components')\n",
    "plt.ylabel('Cumulative explained variance')"
   ]
  },
  {
   "cell_type": "markdown",
   "metadata": {},
   "source": [
    "# Performing PCA with target Dimensional Reduction set to 100"
   ]
  },
  {
   "cell_type": "code",
   "execution_count": 6,
   "metadata": {},
   "outputs": [
    {
     "name": "stdout",
     "output_type": "stream",
     "text": [
      "(42000, 784)\n",
      "(42000, 100)\n"
     ]
    }
   ],
   "source": [
    "NCOMPONENTS = 100\n",
    "\n",
    "pca = PCA(n_components=NCOMPONENTS)\n",
    "X_pca_train = pca.fit_transform(X_sc_train)\n",
    "X_pca_test = pca.transform(X_sc_test)\n",
    "pca_std = np.std(X_pca_train)\n",
    "\n",
    "print(X_sc_train.shape)\n",
    "print(X_pca_train.shape)"
   ]
  },
  {
   "cell_type": "markdown",
   "metadata": {},
   "source": [
    "# Inverting PCA Decomposition"
   ]
  },
  {
   "cell_type": "code",
   "execution_count": 7,
   "metadata": {},
   "outputs": [],
   "source": [
    "inv_pca = pca.inverse_transform(X_pca_train)\n",
    "inv_sc = scaler.inverse_transform(inv_pca)"
   ]
  },
  {
   "cell_type": "markdown",
   "metadata": {},
   "source": [
    "# Plotting 100D Decompose Image from and Printing it Side by Side"
   ]
  },
  {
   "cell_type": "code",
   "execution_count": 8,
   "metadata": {},
   "outputs": [
    {
     "data": {
      "image/png": "[encoded data removed]",
      "text/plain": [
       "<Figure size 288x144 with 1 Axes>"
      ]
     },
     "metadata": {
      "needs_background": "light"
     },
     "output_type": "display_data"
    },
    {
     "data": {
      "image/png": "[encoded data removed]",
      "text/plain": [
       "<Figure size 288x144 with 1 Axes>"
      ]
     },
     "metadata": {
      "needs_background": "light"
     },
     "output_type": "display_data"
    },
    {
     "data": {
      "image/png": "[encoded data removed]",
      "text/plain": [
       "<Figure size 288x144 with 1 Axes>"
      ]
     },
     "metadata": {
      "needs_background": "light"
     },
     "output_type": "display_data"
    },
    {
     "data": {
      "image/png": "[encoded data removed]",
      "text/plain": [
       "<Figure size 288x144 with 1 Axes>"
      ]
     },
     "metadata": {
      "needs_background": "light"
     },
     "output_type": "display_data"
    },
    {
     "data": {
      "image/png": "[encoded data removed]",
      "text/plain": [
       "<Figure size 288x144 with 1 Axes>"
      ]
     },
     "metadata": {
      "needs_background": "light"
     },
     "output_type": "display_data"
    },
    {
     "data": {
      "image/png": "[encoded data removed]",
      "text/plain": [
       "<Figure size 288x144 with 1 Axes>"
      ]
     },
     "metadata": {
      "needs_background": "light"
     },
     "output_type": "display_data"
    },
    {
     "data": {
      "image/png": "[encoded data removed]",
      "text/plain": [
       "<Figure size 288x144 with 1 Axes>"
      ]
     },
     "metadata": {
      "needs_background": "light"
     },
     "output_type": "display_data"
    },
    {
     "data": {
      "image/png": "[encoded data removed]",
      "text/plain": [
       "<Figure size 288x144 with 1 Axes>"
      ]
     },
     "metadata": {
      "needs_background": "light"
     },
     "output_type": "display_data"
    },
    {
     "data": {
      "image/png": "[encoded data removed]",
      "text/plain": [
       "<Figure size 288x144 with 1 Axes>"
      ]
     },
     "metadata": {
      "needs_background": "light"
     },
     "output_type": "display_data"
    },
    {
     "data": {
      "image/png": "[encoded data removed]",
      "text/plain": [
       "<Figure size 288x144 with 1 Axes>"
      ]
     },
     "metadata": {
      "needs_background": "light"
     },
     "output_type": "display_data"
    }
   ],
   "source": [
    "def side_by_side(indexes):\n",
    "    org = X_train[indexes].reshape(28,28)\n",
    "    rec = inv_sc[indexes].reshape(28,28)\n",
    "    pair = np.concatenate((org, rec), axis=1)\n",
    "    plt.figure(figsize=(4,2))\n",
    "    plt.imshow(pair)\n",
    "    plt.show()\n",
    "    \n",
    "for index in range(0,10):\n",
    "    side_by_side(index)"
   ]
  },
  {
   "cell_type": "markdown",
   "metadata": {},
   "source": [
    "# Train Model using simple Perceptron and "
   ]
  },
  {
   "cell_type": "code",
   "execution_count": 9,
   "metadata": {},
   "outputs": [
    {
     "name": "stdout",
     "output_type": "stream",
     "text": [
      "WARNING:tensorflow:From /home/jiwant/PCA_Project/.venv/lib/python3.6/site-packages/keras/backend/tensorflow_backend.py:422: The name tf.global_variables is deprecated. Please use tf.compat.v1.global_variables instead.\n",
      "\n",
      "Train on 35700 samples, validate on 6300 samples\n",
      "Epoch 1/100\n",
      " - 1s - loss: 2.5300 - categorical_accuracy: 0.4836 - val_loss: 0.4165 - val_categorical_accuracy: 0.8843\n",
      "Epoch 2/100\n",
      " - 0s - loss: 0.8552 - categorical_accuracy: 0.7873 - val_loss: 0.3069 - val_categorical_accuracy: 0.9179\n",
      "Epoch 3/100\n",
      " - 0s - loss: 0.5546 - categorical_accuracy: 0.8483 - val_loss: 0.2634 - val_categorical_accuracy: 0.9238\n",
      "Epoch 4/100\n",
      " - 0s - loss: 0.4152 - categorical_accuracy: 0.8757 - val_loss: 0.2220 - val_categorical_accuracy: 0.9337\n",
      "Epoch 5/100\n",
      " - 0s - loss: 0.3387 - categorical_accuracy: 0.8958 - val_loss: 0.2007 - val_categorical_accuracy: 0.9403\n",
      "Epoch 6/100\n",
      " - 0s - loss: 0.2958 - categorical_accuracy: 0.9079 - val_loss: 0.1780 - val_categorical_accuracy: 0.9459\n",
      "Epoch 7/100\n",
      " - 0s - loss: 0.2642 - categorical_accuracy: 0.9184 - val_loss: 0.1692 - val_categorical_accuracy: 0.9484\n",
      "Epoch 8/100\n",
      " - 0s - loss: 0.2415 - categorical_accuracy: 0.9246 - val_loss: 0.1602 - val_categorical_accuracy: 0.9533\n",
      "Epoch 9/100\n",
      " - 0s - loss: 0.2215 - categorical_accuracy: 0.9315 - val_loss: 0.1495 - val_categorical_accuracy: 0.9537\n",
      "Epoch 10/100\n",
      " - 0s - loss: 0.2036 - categorical_accuracy: 0.9352 - val_loss: 0.1442 - val_categorical_accuracy: 0.9543\n",
      "Epoch 11/100\n",
      " - 0s - loss: 0.1889 - categorical_accuracy: 0.9393 - val_loss: 0.1323 - val_categorical_accuracy: 0.9579\n",
      "Epoch 12/100\n",
      " - 0s - loss: 0.1784 - categorical_accuracy: 0.9446 - val_loss: 0.1275 - val_categorical_accuracy: 0.9608\n",
      "Epoch 13/100\n",
      " - 0s - loss: 0.1690 - categorical_accuracy: 0.9462 - val_loss: 0.1229 - val_categorical_accuracy: 0.9629\n",
      "Epoch 14/100\n",
      " - 0s - loss: 0.1591 - categorical_accuracy: 0.9494 - val_loss: 0.1204 - val_categorical_accuracy: 0.9613\n",
      "Epoch 15/100\n",
      " - 0s - loss: 0.1557 - categorical_accuracy: 0.9501 - val_loss: 0.1136 - val_categorical_accuracy: 0.9633\n",
      "Epoch 16/100\n",
      " - 0s - loss: 0.1481 - categorical_accuracy: 0.9531 - val_loss: 0.1111 - val_categorical_accuracy: 0.9644\n",
      "Epoch 17/100\n",
      " - 0s - loss: 0.1394 - categorical_accuracy: 0.9552 - val_loss: 0.1155 - val_categorical_accuracy: 0.9649\n",
      "Epoch 18/100\n",
      " - 0s - loss: 0.1331 - categorical_accuracy: 0.9575 - val_loss: 0.1091 - val_categorical_accuracy: 0.9671\n",
      "Epoch 19/100\n",
      " - 0s - loss: 0.1295 - categorical_accuracy: 0.9585 - val_loss: 0.1102 - val_categorical_accuracy: 0.9662\n",
      "Epoch 20/100\n",
      " - 0s - loss: 0.1296 - categorical_accuracy: 0.9587 - val_loss: 0.1083 - val_categorical_accuracy: 0.9676\n",
      "Epoch 21/100\n",
      " - 0s - loss: 0.1209 - categorical_accuracy: 0.9611 - val_loss: 0.1051 - val_categorical_accuracy: 0.9689\n",
      "Epoch 22/100\n",
      " - 0s - loss: 0.1176 - categorical_accuracy: 0.9620 - val_loss: 0.0978 - val_categorical_accuracy: 0.9684\n",
      "Epoch 23/100\n",
      " - 0s - loss: 0.1155 - categorical_accuracy: 0.9620 - val_loss: 0.1017 - val_categorical_accuracy: 0.9702\n",
      "Epoch 24/100\n",
      " - 0s - loss: 0.1099 - categorical_accuracy: 0.9654 - val_loss: 0.0998 - val_categorical_accuracy: 0.9690\n",
      "Epoch 25/100\n",
      " - 0s - loss: 0.1052 - categorical_accuracy: 0.9662 - val_loss: 0.1023 - val_categorical_accuracy: 0.9694\n",
      "Epoch 26/100\n",
      " - 0s - loss: 0.1028 - categorical_accuracy: 0.9674 - val_loss: 0.0967 - val_categorical_accuracy: 0.9714\n",
      "Epoch 27/100\n",
      " - 0s - loss: 0.0995 - categorical_accuracy: 0.9679 - val_loss: 0.1041 - val_categorical_accuracy: 0.9705\n",
      "Epoch 28/100\n",
      " - 0s - loss: 0.0953 - categorical_accuracy: 0.9693 - val_loss: 0.1037 - val_categorical_accuracy: 0.9714\n",
      "Epoch 29/100\n",
      " - 0s - loss: 0.0937 - categorical_accuracy: 0.9692 - val_loss: 0.0998 - val_categorical_accuracy: 0.9722\n",
      "Epoch 30/100\n",
      " - 0s - loss: 0.0922 - categorical_accuracy: 0.9705 - val_loss: 0.1015 - val_categorical_accuracy: 0.9711\n",
      "Epoch 31/100\n",
      " - 0s - loss: 0.0893 - categorical_accuracy: 0.9702 - val_loss: 0.1024 - val_categorical_accuracy: 0.9711\n",
      "Epoch 32/100\n",
      " - 0s - loss: 0.0859 - categorical_accuracy: 0.9722 - val_loss: 0.0968 - val_categorical_accuracy: 0.9722\n",
      "Epoch 33/100\n",
      " - 0s - loss: 0.0858 - categorical_accuracy: 0.9714 - val_loss: 0.0998 - val_categorical_accuracy: 0.9716\n",
      "Epoch 34/100\n",
      " - 0s - loss: 0.0811 - categorical_accuracy: 0.9734 - val_loss: 0.0997 - val_categorical_accuracy: 0.9717\n",
      "Epoch 35/100\n",
      " - 0s - loss: 0.0795 - categorical_accuracy: 0.9746 - val_loss: 0.0971 - val_categorical_accuracy: 0.9730\n",
      "Epoch 36/100\n",
      " - 0s - loss: 0.0811 - categorical_accuracy: 0.9730 - val_loss: 0.0973 - val_categorical_accuracy: 0.9721\n",
      "Epoch 37/100\n",
      " - 0s - loss: 0.0780 - categorical_accuracy: 0.9750 - val_loss: 0.1006 - val_categorical_accuracy: 0.9725\n",
      "Epoch 38/100\n",
      " - 0s - loss: 0.0739 - categorical_accuracy: 0.9762 - val_loss: 0.1013 - val_categorical_accuracy: 0.9735\n",
      "Epoch 39/100\n",
      " - 0s - loss: 0.0775 - categorical_accuracy: 0.9748 - val_loss: 0.0966 - val_categorical_accuracy: 0.9722\n",
      "Epoch 40/100\n",
      " - 0s - loss: 0.0747 - categorical_accuracy: 0.9759 - val_loss: 0.0997 - val_categorical_accuracy: 0.9730\n",
      "Epoch 41/100\n",
      " - 0s - loss: 0.0732 - categorical_accuracy: 0.9764 - val_loss: 0.0966 - val_categorical_accuracy: 0.9751\n",
      "Epoch 42/100\n",
      " - 0s - loss: 0.0688 - categorical_accuracy: 0.9775 - val_loss: 0.0975 - val_categorical_accuracy: 0.9738\n",
      "Epoch 43/100\n",
      " - 0s - loss: 0.0678 - categorical_accuracy: 0.9780 - val_loss: 0.0989 - val_categorical_accuracy: 0.9743\n",
      "Epoch 44/100\n",
      " - 0s - loss: 0.0698 - categorical_accuracy: 0.9775 - val_loss: 0.0965 - val_categorical_accuracy: 0.9759\n",
      "Epoch 45/100\n",
      " - 0s - loss: 0.0661 - categorical_accuracy: 0.9778 - val_loss: 0.1004 - val_categorical_accuracy: 0.9737\n",
      "Epoch 46/100\n",
      " - 0s - loss: 0.0663 - categorical_accuracy: 0.9784 - val_loss: 0.0949 - val_categorical_accuracy: 0.9746\n",
      "Epoch 47/100\n",
      " - 0s - loss: 0.0639 - categorical_accuracy: 0.9783 - val_loss: 0.0979 - val_categorical_accuracy: 0.9751\n",
      "Epoch 48/100\n",
      " - 0s - loss: 0.0625 - categorical_accuracy: 0.9793 - val_loss: 0.1017 - val_categorical_accuracy: 0.9749\n",
      "Epoch 49/100\n",
      " - 0s - loss: 0.0619 - categorical_accuracy: 0.9785 - val_loss: 0.1004 - val_categorical_accuracy: 0.9740\n",
      "Epoch 50/100\n",
      " - 0s - loss: 0.0607 - categorical_accuracy: 0.9801 - val_loss: 0.0968 - val_categorical_accuracy: 0.9749\n",
      "Epoch 51/100\n",
      " - 0s - loss: 0.0593 - categorical_accuracy: 0.9802 - val_loss: 0.0997 - val_categorical_accuracy: 0.9737\n",
      "Epoch 52/100\n",
      " - 0s - loss: 0.0593 - categorical_accuracy: 0.9797 - val_loss: 0.1042 - val_categorical_accuracy: 0.9768\n",
      "Epoch 53/100\n",
      " - 0s - loss: 0.0582 - categorical_accuracy: 0.9807 - val_loss: 0.0988 - val_categorical_accuracy: 0.9751\n",
      "Epoch 54/100\n",
      " - 0s - loss: 0.0566 - categorical_accuracy: 0.9812 - val_loss: 0.1015 - val_categorical_accuracy: 0.9763\n",
      "Epoch 55/100\n",
      " - 0s - loss: 0.0538 - categorical_accuracy: 0.9827 - val_loss: 0.0987 - val_categorical_accuracy: 0.9754\n",
      "Epoch 56/100\n",
      " - 0s - loss: 0.0553 - categorical_accuracy: 0.9815 - val_loss: 0.1045 - val_categorical_accuracy: 0.9738\n",
      "Epoch 57/100\n",
      " - 0s - loss: 0.0523 - categorical_accuracy: 0.9820 - val_loss: 0.1066 - val_categorical_accuracy: 0.9741\n",
      "Epoch 58/100\n",
      " - 0s - loss: 0.0510 - categorical_accuracy: 0.9836 - val_loss: 0.1066 - val_categorical_accuracy: 0.9737\n",
      "Epoch 59/100\n",
      " - 0s - loss: 0.0514 - categorical_accuracy: 0.9821 - val_loss: 0.0979 - val_categorical_accuracy: 0.9765\n",
      "Epoch 60/100\n",
      " - 0s - loss: 0.0512 - categorical_accuracy: 0.9833 - val_loss: 0.1047 - val_categorical_accuracy: 0.9762\n",
      "Epoch 61/100\n",
      " - 0s - loss: 0.0488 - categorical_accuracy: 0.9835 - val_loss: 0.1046 - val_categorical_accuracy: 0.9759\n",
      "Epoch 62/100\n",
      " - 0s - loss: 0.0481 - categorical_accuracy: 0.9839 - val_loss: 0.1086 - val_categorical_accuracy: 0.9733\n",
      "Epoch 63/100\n",
      " - 0s - loss: 0.0449 - categorical_accuracy: 0.9846 - val_loss: 0.1090 - val_categorical_accuracy: 0.9763\n",
      "Epoch 64/100\n",
      " - 0s - loss: 0.0508 - categorical_accuracy: 0.9839 - val_loss: 0.1047 - val_categorical_accuracy: 0.9751\n",
      "Epoch 65/100\n",
      " - 0s - loss: 0.0460 - categorical_accuracy: 0.9845 - val_loss: 0.1113 - val_categorical_accuracy: 0.9760\n",
      "Epoch 66/100\n",
      " - 0s - loss: 0.0475 - categorical_accuracy: 0.9843 - val_loss: 0.1069 - val_categorical_accuracy: 0.9770\n",
      "Epoch 67/100\n",
      " - 0s - loss: 0.0461 - categorical_accuracy: 0.9852 - val_loss: 0.1141 - val_categorical_accuracy: 0.9756\n"
     ]
    },
    {
     "name": "stdout",
     "output_type": "stream",
     "text": [
      "Epoch 68/100\n",
      " - 0s - loss: 0.0453 - categorical_accuracy: 0.9851 - val_loss: 0.1078 - val_categorical_accuracy: 0.9751\n",
      "Epoch 69/100\n",
      " - 0s - loss: 0.0440 - categorical_accuracy: 0.9855 - val_loss: 0.1085 - val_categorical_accuracy: 0.9768\n",
      "Epoch 70/100\n",
      " - 0s - loss: 0.0467 - categorical_accuracy: 0.9843 - val_loss: 0.1110 - val_categorical_accuracy: 0.9768\n",
      "Epoch 71/100\n",
      " - 0s - loss: 0.0427 - categorical_accuracy: 0.9858 - val_loss: 0.1119 - val_categorical_accuracy: 0.9763\n",
      "Epoch 72/100\n",
      " - 0s - loss: 0.0407 - categorical_accuracy: 0.9858 - val_loss: 0.1090 - val_categorical_accuracy: 0.9763\n",
      "Epoch 73/100\n",
      " - 0s - loss: 0.0423 - categorical_accuracy: 0.9858 - val_loss: 0.1100 - val_categorical_accuracy: 0.9773\n",
      "Epoch 74/100\n",
      " - 0s - loss: 0.0429 - categorical_accuracy: 0.9856 - val_loss: 0.1076 - val_categorical_accuracy: 0.9767\n",
      "Epoch 75/100\n",
      " - 0s - loss: 0.0416 - categorical_accuracy: 0.9856 - val_loss: 0.1086 - val_categorical_accuracy: 0.9767\n",
      "Epoch 76/100\n",
      " - 0s - loss: 0.0391 - categorical_accuracy: 0.9875 - val_loss: 0.1109 - val_categorical_accuracy: 0.9759\n",
      "Epoch 77/100\n",
      " - 0s - loss: 0.0405 - categorical_accuracy: 0.9858 - val_loss: 0.1088 - val_categorical_accuracy: 0.9762\n",
      "Epoch 78/100\n",
      " - 0s - loss: 0.0414 - categorical_accuracy: 0.9857 - val_loss: 0.1083 - val_categorical_accuracy: 0.9767\n",
      "Epoch 79/100\n",
      " - 0s - loss: 0.0381 - categorical_accuracy: 0.9871 - val_loss: 0.1091 - val_categorical_accuracy: 0.9773\n",
      "Epoch 80/100\n",
      " - 0s - loss: 0.0392 - categorical_accuracy: 0.9875 - val_loss: 0.1068 - val_categorical_accuracy: 0.9778\n",
      "Epoch 81/100\n",
      " - 0s - loss: 0.0373 - categorical_accuracy: 0.9875 - val_loss: 0.1112 - val_categorical_accuracy: 0.9776\n",
      "Epoch 82/100\n",
      " - 0s - loss: 0.0366 - categorical_accuracy: 0.9886 - val_loss: 0.1167 - val_categorical_accuracy: 0.9775\n",
      "Epoch 83/100\n",
      " - 0s - loss: 0.0347 - categorical_accuracy: 0.9877 - val_loss: 0.1108 - val_categorical_accuracy: 0.9781\n",
      "Epoch 84/100\n",
      " - 0s - loss: 0.0364 - categorical_accuracy: 0.9880 - val_loss: 0.1145 - val_categorical_accuracy: 0.9783\n",
      "Epoch 85/100\n",
      " - 0s - loss: 0.0352 - categorical_accuracy: 0.9885 - val_loss: 0.1169 - val_categorical_accuracy: 0.9773\n",
      "Epoch 86/100\n",
      " - 0s - loss: 0.0356 - categorical_accuracy: 0.9876 - val_loss: 0.1227 - val_categorical_accuracy: 0.9762\n",
      "Epoch 87/100\n",
      " - 0s - loss: 0.0320 - categorical_accuracy: 0.9895 - val_loss: 0.1176 - val_categorical_accuracy: 0.9775\n",
      "Epoch 88/100\n",
      " - 0s - loss: 0.0311 - categorical_accuracy: 0.9899 - val_loss: 0.1129 - val_categorical_accuracy: 0.9767\n",
      "Epoch 89/100\n",
      " - 0s - loss: 0.0356 - categorical_accuracy: 0.9878 - val_loss: 0.1177 - val_categorical_accuracy: 0.9792\n",
      "Epoch 90/100\n",
      " - 0s - loss: 0.0319 - categorical_accuracy: 0.9893 - val_loss: 0.1229 - val_categorical_accuracy: 0.9776\n",
      "Epoch 91/100\n",
      " - 0s - loss: 0.0317 - categorical_accuracy: 0.9892 - val_loss: 0.1170 - val_categorical_accuracy: 0.9776\n",
      "Epoch 92/100\n",
      " - 0s - loss: 0.0309 - categorical_accuracy: 0.9899 - val_loss: 0.1162 - val_categorical_accuracy: 0.9775\n",
      "Epoch 93/100\n",
      " - 0s - loss: 0.0318 - categorical_accuracy: 0.9889 - val_loss: 0.1120 - val_categorical_accuracy: 0.9789\n",
      "Epoch 94/100\n",
      " - 0s - loss: 0.0317 - categorical_accuracy: 0.9887 - val_loss: 0.1119 - val_categorical_accuracy: 0.9783\n",
      "Epoch 95/100\n",
      " - 0s - loss: 0.0310 - categorical_accuracy: 0.9896 - val_loss: 0.1109 - val_categorical_accuracy: 0.9786\n",
      "Epoch 96/100\n",
      " - 0s - loss: 0.0296 - categorical_accuracy: 0.9901 - val_loss: 0.1211 - val_categorical_accuracy: 0.9773\n",
      "Epoch 97/100\n",
      " - 0s - loss: 0.0284 - categorical_accuracy: 0.9900 - val_loss: 0.1210 - val_categorical_accuracy: 0.9778\n",
      "Epoch 98/100\n",
      " - 0s - loss: 0.0318 - categorical_accuracy: 0.9894 - val_loss: 0.1145 - val_categorical_accuracy: 0.9778\n",
      "Epoch 99/100\n",
      " - 0s - loss: 0.0304 - categorical_accuracy: 0.9893 - val_loss: 0.1215 - val_categorical_accuracy: 0.9757\n",
      "Epoch 100/100\n",
      " - 0s - loss: 0.0305 - categorical_accuracy: 0.9896 - val_loss: 0.1271 - val_categorical_accuracy: 0.9767\n"
     ]
    },
    {
     "data": {
      "text/plain": [
       "<keras.callbacks.callbacks.History at 0x7fcfc559f358>"
      ]
     },
     "execution_count": 9,
     "metadata": {},
     "output_type": "execute_result"
    }
   ],
   "source": [
    "model = Sequential()\n",
    "layers = 1\n",
    "units = 128\n",
    "\n",
    "model.add(Dense(units, input_dim=NCOMPONENTS, activation='relu'))\n",
    "model.add(GaussianNoise(pca_std))\n",
    "for i in range(layers):\n",
    "    model.add(Dense(units, activation='relu'))\n",
    "    model.add(GaussianNoise(pca_std))\n",
    "    model.add(Dropout(0.1))\n",
    "model.add(Dense(10, activation='softmax'))\n",
    "\n",
    "model.compile(loss='categorical_crossentropy', optimizer='rmsprop', metrics=['categorical_accuracy'])\n",
    "\n",
    "model.fit(X_pca_train, Y_train, epochs=100, batch_size=256, validation_split=0.15, verbose=2)"
   ]
  },
  {
   "cell_type": "code",
   "execution_count": 10,
   "metadata": {},
   "outputs": [],
   "source": [
    "predictions = model.predict_classes(X_pca_test, verbose=0)\n",
    "\n",
    "def write_predictions(predictions, fname):\n",
    "    pd.DataFrame({\"ImageId\": list(range(1,len(predictions)+1)), \"Label\": predictions}).to_csv(fname, index=False, header=True)\n",
    "\n",
    "write_predictions(predictions, \"pca-keras-mlp.csv\")"
   ]
  },
  {
   "cell_type": "markdown",
   "metadata": {},
   "source": [
    "# Analyze Predictions"
   ]
  },
  {
   "cell_type": "code",
   "execution_count": 11,
   "metadata": {},
   "outputs": [],
   "source": [
    "predictions = pd.read_csv('./pca-keras-mlp.csv')"
   ]
  },
  {
   "cell_type": "code",
   "execution_count": 12,
   "metadata": {},
   "outputs": [
    {
     "data": {
      "text/html": [
       "<div>\n",
       "<style scoped>\n",
       "    .dataframe tbody tr th:only-of-type {\n",
       "        vertical-align: middle;\n",
       "    }\n",
       "\n",
       "    .dataframe tbody tr th {\n",
       "        vertical-align: top;\n",
       "    }\n",
       "\n",
       "    .dataframe thead th {\n",
       "        text-align: right;\n",
       "    }\n",
       "</style>\n",
       "<table border=\"1\" class=\"dataframe\">\n",
       "  <thead>\n",
       "    <tr style=\"text-align: right;\">\n",
       "      <th></th>\n",
       "      <th>ImageId</th>\n",
       "      <th>Label</th>\n",
       "    </tr>\n",
       "  </thead>\n",
       "  <tbody>\n",
       "    <tr>\n",
       "      <th>0</th>\n",
       "      <td>1</td>\n",
       "      <td>2</td>\n",
       "    </tr>\n",
       "    <tr>\n",
       "      <th>1</th>\n",
       "      <td>2</td>\n",
       "      <td>0</td>\n",
       "    </tr>\n",
       "    <tr>\n",
       "      <th>2</th>\n",
       "      <td>3</td>\n",
       "      <td>9</td>\n",
       "    </tr>\n",
       "    <tr>\n",
       "      <th>3</th>\n",
       "      <td>4</td>\n",
       "      <td>9</td>\n",
       "    </tr>\n",
       "    <tr>\n",
       "      <th>4</th>\n",
       "      <td>5</td>\n",
       "      <td>3</td>\n",
       "    </tr>\n",
       "    <tr>\n",
       "      <th>...</th>\n",
       "      <td>...</td>\n",
       "      <td>...</td>\n",
       "    </tr>\n",
       "    <tr>\n",
       "      <th>27995</th>\n",
       "      <td>27996</td>\n",
       "      <td>9</td>\n",
       "    </tr>\n",
       "    <tr>\n",
       "      <th>27996</th>\n",
       "      <td>27997</td>\n",
       "      <td>7</td>\n",
       "    </tr>\n",
       "    <tr>\n",
       "      <th>27997</th>\n",
       "      <td>27998</td>\n",
       "      <td>3</td>\n",
       "    </tr>\n",
       "    <tr>\n",
       "      <th>27998</th>\n",
       "      <td>27999</td>\n",
       "      <td>9</td>\n",
       "    </tr>\n",
       "    <tr>\n",
       "      <th>27999</th>\n",
       "      <td>28000</td>\n",
       "      <td>2</td>\n",
       "    </tr>\n",
       "  </tbody>\n",
       "</table>\n",
       "<p>28000 rows × 2 columns</p>\n",
       "</div>"
      ],
      "text/plain": [
       "       ImageId  Label\n",
       "0            1      2\n",
       "1            2      0\n",
       "2            3      9\n",
       "3            4      9\n",
       "4            5      3\n",
       "...        ...    ...\n",
       "27995    27996      9\n",
       "27996    27997      7\n",
       "27997    27998      3\n",
       "27998    27999      9\n",
       "27999    28000      2\n",
       "\n",
       "[28000 rows x 2 columns]"
      ]
     },
     "execution_count": 12,
     "metadata": {},
     "output_type": "execute_result"
    }
   ],
   "source": [
    "predictions"
   ]
  },
  {
   "cell_type": "code",
   "execution_count": null,
   "metadata": {},
   "outputs": [],
   "source": []
  }
 ],
 "metadata": {
  "kernelspec": {
   "display_name": "Python 3",
   "language": "python",
   "name": "python3"
  },
  "language_info": {
   "codemirror_mode": {
    "name": "ipython",
    "version": 3
   },
   "file_extension": ".py",
   "mimetype": "text/x-python",
   "name": "python",
   "nbconvert_exporter": "python",
   "pygments_lexer": "ipython3",
   "version": "3.6.8"
  }
 },
 "nbformat": 4,
 "nbformat_minor": 4
}
